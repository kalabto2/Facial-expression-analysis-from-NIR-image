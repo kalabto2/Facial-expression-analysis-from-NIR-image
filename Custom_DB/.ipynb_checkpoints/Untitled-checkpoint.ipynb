{
 "cells": [
  {
   "cell_type": "code",
   "execution_count": 3,
   "id": "9dfab193",
   "metadata": {
    "ExecuteTime": {
     "end_time": "2024-01-18T10:33:22.755891Z",
     "start_time": "2024-01-18T10:33:22.732974Z"
    }
   },
   "outputs": [],
   "source": [
    "from deepface import DeepFace\n",
    "import os"
   ]
  },
  {
   "cell_type": "code",
   "execution_count": 2,
   "id": "46aec829",
   "metadata": {
    "ExecuteTime": {
     "end_time": "2024-01-18T10:33:16.323181Z",
     "start_time": "2024-01-18T10:33:16.174670Z"
    }
   },
   "outputs": [],
   "source": [
    "!mkdir processed"
   ]
  },
  {
   "cell_type": "code",
   "execution_count": null,
   "id": "d5648ab2",
   "metadata": {
    "collapsed": true
   },
   "outputs": [],
   "source": []
  }
 ],
 "metadata": {
  "kernelspec": {
   "display_name": "venvDIP",
   "language": "python",
   "name": "venvdip"
  },
  "language_info": {
   "codemirror_mode": {
    "name": "ipython",
    "version": 3
   },
   "file_extension": ".py",
   "mimetype": "text/x-python",
   "name": "python",
   "nbconvert_exporter": "python",
   "pygments_lexer": "ipython3",
   "version": "3.11.6"
  },
  "toc": {
   "base_numbering": 1,
   "nav_menu": {},
   "number_sections": true,
   "sideBar": true,
   "skip_h1_title": false,
   "title_cell": "Table of Contents",
   "title_sidebar": "Contents",
   "toc_cell": false,
   "toc_position": {},
   "toc_section_display": true,
   "toc_window_display": false
  }
 },
 "nbformat": 4,
 "nbformat_minor": 5
}
